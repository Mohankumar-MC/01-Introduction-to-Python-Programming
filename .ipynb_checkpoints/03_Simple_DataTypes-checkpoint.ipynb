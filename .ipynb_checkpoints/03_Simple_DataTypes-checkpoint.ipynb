{
 "cells": [
  {
   "cell_type": "markdown",
   "id": "4863a32e",
   "metadata": {},
   "source": [
    "# Simple Data Types\n",
    "Scalar veriables - can store only one data at a time<br>\n",
    "\n",
    "syntax : \n",
    "\n",
    "variable_name = int_value <br>\n",
    "variable_name = float_value<br>\n",
    "variable_name = \"string_value\"<br>\n",
    "variable_name = bool_value"
   ]
  },
  {
   "cell_type": "code",
   "execution_count": 1,
   "id": "5e53eeb3",
   "metadata": {},
   "outputs": [
    {
     "name": "stdout",
     "output_type": "stream",
     "text": [
      "a : 22 ---------> <class 'int'>\n",
      "b : 62.3 ---------> <class 'float'>\n",
      "c : 200 ---------> <class 'int'>\n",
      "d : 14.285714285714286 ---------> <class 'float'>\n"
     ]
    }
   ],
   "source": [
    "# int, float, string, bool\n",
    "\n",
    "a = 10 + 12\n",
    "b = 12.3 + 50.00\n",
    "c = 10 * 20\n",
    "d = 100/7\n",
    "\n",
    "print(\"a :\", a ,\"--------->\",type(a))\n",
    "print(\"b :\", b ,\"--------->\",type(b))\n",
    "print(\"c :\", c ,\"--------->\",type(c))\n",
    "print(\"d :\", d ,\"--------->\",type(d))"
   ]
  },
  {
   "cell_type": "code",
   "execution_count": 2,
   "id": "dc1c1eeb",
   "metadata": {},
   "outputs": [
    {
     "ename": "SyntaxError",
     "evalue": "invalid syntax (<ipython-input-2-108d80c18a2e>, line 2)",
     "output_type": "error",
     "traceback": [
      "\u001b[1;36m  File \u001b[1;32m\"<ipython-input-2-108d80c18a2e>\"\u001b[1;36m, line \u001b[1;32m2\u001b[0m\n\u001b[1;33m    syntax : stringName = \"String Value\" <br>\u001b[0m\n\u001b[1;37m                                             ^\u001b[0m\n\u001b[1;31mSyntaxError\u001b[0m\u001b[1;31m:\u001b[0m invalid syntax\n"
     ]
    }
   ],
   "source": [
    "# Datatype - Strings\n",
    "syntax : stringName = \"String Value\" <br>\n",
    "In python strings are mutable"
   ]
  },
  {
   "cell_type": "code",
   "execution_count": 3,
   "id": "39c5ddb1",
   "metadata": {},
   "outputs": [
    {
     "name": "stdout",
     "output_type": "stream",
     "text": [
      "I love python\n",
      "Hello World\n"
     ]
    }
   ],
   "source": [
    "#string\n",
    "st = \"I love python\"\n",
    "print (st)\n",
    "print(\"Hello World\")"
   ]
  },
  {
   "cell_type": "code",
   "execution_count": 4,
   "id": "21c39772",
   "metadata": {},
   "outputs": [
    {
     "name": "stdout",
     "output_type": "stream",
     "text": [
      "I love python\n",
      "length str1 :  13\n",
      "11\n",
      "length str2 :  11\n",
      "24\n",
      "length str3 :  24\n"
     ]
    }
   ],
   "source": [
    "# string\n",
    "\n",
    "str1 = \"I love python\"\n",
    "print(str1)\n",
    "print(\"length str1 : \", len(str1))\n",
    "\n",
    "str2 = \"Hello world\"\n",
    "print(len(str2))\n",
    "print(\"length str2 : \",len(str2))\n",
    "\n",
    "str3 = str1 + str2\n",
    "print(len(str3))\n",
    "print(\"length str3 : \",len(str3))"
   ]
  },
  {
   "cell_type": "code",
   "execution_count": 10,
   "id": "f18c7ef1",
   "metadata": {},
   "outputs": [
    {
     "name": "stdout",
     "output_type": "stream",
     "text": [
      "13\n",
      "I love python\n",
      "love pyt\n",
      "lv y\n",
      " love python\n"
     ]
    }
   ],
   "source": [
    "# string slicing or accing substring\n",
    "# syntax - [start_index : end_index : jumps ]\n",
    "# default jump would be 1\n",
    "\n",
    "str1 = \"I love python\"\n",
    "print(len(str1))\n",
    "print(str1[:])# print complete string\n",
    "\n",
    "print(str1[2:10])#print string from position 2 to 10\n",
    "\n",
    "print(str1[2:10:2]) #print from position 2 to 10 with increment 2 positions\n",
    "\n",
    "print(str1[1:]) #print string from index position 1 to last"
   ]
  },
  {
   "cell_type": "code",
   "execution_count": 11,
   "id": "44ad727b",
   "metadata": {},
   "outputs": [
    {
     "name": "stdout",
     "output_type": "stream",
     "text": [
      "I love python\n",
      "h\n",
      "pyt\n"
     ]
    }
   ],
   "source": [
    "#reverse index\n",
    "print(st)\n",
    "print(st[-3]) \n",
    "print(st[-6:-3])"
   ]
  },
  {
   "cell_type": "code",
   "execution_count": 12,
   "id": "6773ecc0",
   "metadata": {},
   "outputs": [
    {
     "name": "stdout",
     "output_type": "stream",
     "text": [
      "htyp ev\n",
      " love pytho\n",
      "nohtyp evol I\n",
      "nhy vlI\n"
     ]
    }
   ],
   "source": [
    "print(str1[10:3:-1]) #print from position 10 to 3 with decrement 1 position\n",
    "\n",
    "print(str1[1:-1]) #print string from index position 1 to last-1\n",
    "\n",
    "print(str1[::-1]) #[start_index : end_index : operation ]\n",
    "\n",
    "print(str1[::-2]) #[start_index : end_index : operation ]"
   ]
  },
  {
   "cell_type": "code",
   "execution_count": null,
   "id": "aa748e42",
   "metadata": {},
   "outputs": [],
   "source": []
  }
 ],
 "metadata": {
  "kernelspec": {
   "display_name": "Python 3",
   "language": "python",
   "name": "python3"
  },
  "language_info": {
   "codemirror_mode": {
    "name": "ipython",
    "version": 3
   },
   "file_extension": ".py",
   "mimetype": "text/x-python",
   "name": "python",
   "nbconvert_exporter": "python",
   "pygments_lexer": "ipython3",
   "version": "3.8.8"
  }
 },
 "nbformat": 4,
 "nbformat_minor": 5
}
